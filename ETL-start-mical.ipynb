{
 "cells": [
  {
   "cell_type": "code",
   "execution_count": 1,
   "metadata": {},
   "outputs": [
    {
     "data": {
      "text/html": [
       "<div>\n",
       "<style scoped>\n",
       "    .dataframe tbody tr th:only-of-type {\n",
       "        vertical-align: middle;\n",
       "    }\n",
       "\n",
       "    .dataframe tbody tr th {\n",
       "        vertical-align: top;\n",
       "    }\n",
       "\n",
       "    .dataframe thead th {\n",
       "        text-align: right;\n",
       "    }\n",
       "</style>\n",
       "<table border=\"1\" class=\"dataframe\">\n",
       "  <thead>\n",
       "    <tr style=\"text-align: right;\">\n",
       "      <th></th>\n",
       "      <th>Year</th>\n",
       "      <th>District</th>\n",
       "      <th>Route</th>\n",
       "      <th>County</th>\n",
       "      <th>Postmile</th>\n",
       "      <th>Descriptn</th>\n",
       "      <th>Back_pk_h</th>\n",
       "      <th>Back_pk_m</th>\n",
       "      <th>Back_AADT</th>\n",
       "      <th>Ahead_pk_h</th>\n",
       "      <th>Ahead_pk_m</th>\n",
       "      <th>Ahead_AADT</th>\n",
       "      <th>Lat_S_or_W</th>\n",
       "      <th>Lon_S_or_W</th>\n",
       "      <th>Lat_N_or_E</th>\n",
       "      <th>Lon_N_or_E</th>\n",
       "    </tr>\n",
       "  </thead>\n",
       "  <tbody>\n",
       "    <tr>\n",
       "      <th>0</th>\n",
       "      <td>2017</td>\n",
       "      <td>12</td>\n",
       "      <td>1</td>\n",
       "      <td>ORA</td>\n",
       "      <td>R0.129</td>\n",
       "      <td>DANA POINT, JCT. RTE. 5</td>\n",
       "      <td>0</td>\n",
       "      <td>0</td>\n",
       "      <td>0</td>\n",
       "      <td>3800</td>\n",
       "      <td>41000</td>\n",
       "      <td>37750</td>\n",
       "      <td>33.467008</td>\n",
       "      <td>-117.669809</td>\n",
       "      <td>33.467078</td>\n",
       "      <td>-117.669952</td>\n",
       "    </tr>\n",
       "    <tr>\n",
       "      <th>1</th>\n",
       "      <td>2017</td>\n",
       "      <td>12</td>\n",
       "      <td>1</td>\n",
       "      <td>ORA</td>\n",
       "      <td>R0.78</td>\n",
       "      <td>DANA POINT, DOHENY PARK ROAD</td>\n",
       "      <td>3800</td>\n",
       "      <td>41000</td>\n",
       "      <td>37750</td>\n",
       "      <td>3900</td>\n",
       "      <td>42000</td>\n",
       "      <td>38800</td>\n",
       "      <td>33.464080</td>\n",
       "      <td>-117.678915</td>\n",
       "      <td>33.464173</td>\n",
       "      <td>-117.678870</td>\n",
       "    </tr>\n",
       "    <tr>\n",
       "      <th>2</th>\n",
       "      <td>2017</td>\n",
       "      <td>12</td>\n",
       "      <td>1</td>\n",
       "      <td>ORA</td>\n",
       "      <td>R1.077</td>\n",
       "      <td>BREAK IN ROUTE</td>\n",
       "      <td>0</td>\n",
       "      <td>0</td>\n",
       "      <td>0</td>\n",
       "      <td>0</td>\n",
       "      <td>0</td>\n",
       "      <td>0</td>\n",
       "      <td>33.464159</td>\n",
       "      <td>-117.683985</td>\n",
       "      <td>33.464251</td>\n",
       "      <td>-117.683978</td>\n",
       "    </tr>\n",
       "    <tr>\n",
       "      <th>3</th>\n",
       "      <td>2017</td>\n",
       "      <td>12</td>\n",
       "      <td>1</td>\n",
       "      <td>ORA</td>\n",
       "      <td>8.43</td>\n",
       "      <td>LAGUNA BEACH, MOUNTAIN ROAD</td>\n",
       "      <td>2900</td>\n",
       "      <td>39500</td>\n",
       "      <td>36800</td>\n",
       "      <td>2900</td>\n",
       "      <td>39500</td>\n",
       "      <td>36800</td>\n",
       "      <td>33.531702</td>\n",
       "      <td>-117.774805</td>\n",
       "      <td>33.531709</td>\n",
       "      <td>-117.774814</td>\n",
       "    </tr>\n",
       "    <tr>\n",
       "      <th>4</th>\n",
       "      <td>2017</td>\n",
       "      <td>12</td>\n",
       "      <td>1</td>\n",
       "      <td>ORA</td>\n",
       "      <td>9.418</td>\n",
       "      <td>LAGUNA BEACH, JCT. RTE. 133 NORTH</td>\n",
       "      <td>3050</td>\n",
       "      <td>41000</td>\n",
       "      <td>38500</td>\n",
       "      <td>3450</td>\n",
       "      <td>41000</td>\n",
       "      <td>38500</td>\n",
       "      <td>33.542738</td>\n",
       "      <td>-117.785319</td>\n",
       "      <td>33.542738</td>\n",
       "      <td>-117.785319</td>\n",
       "    </tr>\n",
       "  </tbody>\n",
       "</table>\n",
       "</div>"
      ],
      "text/plain": [
       "   Year  District Route County Postmile                          Descriptn  \\\n",
       "0  2017        12     1    ORA   R0.129            DANA POINT, JCT. RTE. 5   \n",
       "1  2017        12     1    ORA    R0.78       DANA POINT, DOHENY PARK ROAD   \n",
       "2  2017        12     1    ORA   R1.077                     BREAK IN ROUTE   \n",
       "3  2017        12     1    ORA     8.43        LAGUNA BEACH, MOUNTAIN ROAD   \n",
       "4  2017        12     1    ORA    9.418  LAGUNA BEACH, JCT. RTE. 133 NORTH   \n",
       "\n",
       "   Back_pk_h  Back_pk_m  Back_AADT  Ahead_pk_h  Ahead_pk_m  Ahead_AADT  \\\n",
       "0          0          0          0        3800       41000       37750   \n",
       "1       3800      41000      37750        3900       42000       38800   \n",
       "2          0          0          0           0           0           0   \n",
       "3       2900      39500      36800        2900       39500       36800   \n",
       "4       3050      41000      38500        3450       41000       38500   \n",
       "\n",
       "   Lat_S_or_W  Lon_S_or_W  Lat_N_or_E  Lon_N_or_E  \n",
       "0   33.467008 -117.669809   33.467078 -117.669952  \n",
       "1   33.464080 -117.678915   33.464173 -117.678870  \n",
       "2   33.464159 -117.683985   33.464251 -117.683978  \n",
       "3   33.531702 -117.774805   33.531709 -117.774814  \n",
       "4   33.542738 -117.785319   33.542738 -117.785319  "
      ]
     },
     "execution_count": 1,
     "metadata": {},
     "output_type": "execute_result"
    }
   ],
   "source": [
    "%matplotlib inline\n",
    "# Dependencies and Setup\n",
    "import matplotlib.pyplot as plt\n",
    "import pandas as pd\n",
    "from sqlalchemy import create_engine\n",
    "import numpy as np\n",
    "import random\n",
    "import json\n",
    "import requests\n",
    "from config import api_key\n",
    "\n",
    "\n",
    "# Create a reference the CSV file desired\n",
    "csv_path = \"2017_peak_hours_report_kdfactor.csv\"\n",
    "'''PEAK HOUR VOLUME DATA Peak hour volume data consists of hourly volume relationships and data location. The hourly volumes are expressed as a percentage of the Annual Average Daily Traffic (AADT). The percentages are shown for both the AM and the PM peak periods. The principle data described here are the K factor, the D factor and their product (KD). The K factor is the percentage of AADT during the peak hour for both directions of travel. The D factor is the percentage of the peak hour travel in the peak direction. KD multiplied with the AADT gives the one way peak period directional flow rate or the design hourly volume (DHV). The design hourly volume is used for either Operational Analysis or Design Analysis. Refer to the 2016 Highway Capacity Manual, 6th Edition A Guide for Multimodal Mobility Analysis for more details.'''\n",
    "\n",
    "# Read the CSV into a Pandas DataFrame\n",
    "aadt_df = pd.read_csv(csv_path)\n",
    "\n",
    "# Print the first five rows of data to the screen\n",
    "aadt_df.head()"
   ]
  },
  {
   "cell_type": "code",
   "execution_count": 2,
   "metadata": {},
   "outputs": [
    {
     "data": {
      "text/plain": [
       "(28093, 16)"
      ]
     },
     "execution_count": 2,
     "metadata": {},
     "output_type": "execute_result"
    }
   ],
   "source": [
    "aadt_df.shape"
   ]
  },
  {
   "cell_type": "code",
   "execution_count": 3,
   "metadata": {},
   "outputs": [
    {
     "data": {
      "text/html": [
       "<div>\n",
       "<style scoped>\n",
       "    .dataframe tbody tr th:only-of-type {\n",
       "        vertical-align: middle;\n",
       "    }\n",
       "\n",
       "    .dataframe tbody tr th {\n",
       "        vertical-align: top;\n",
       "    }\n",
       "\n",
       "    .dataframe thead th {\n",
       "        text-align: right;\n",
       "    }\n",
       "</style>\n",
       "<table border=\"1\" class=\"dataframe\">\n",
       "  <thead>\n",
       "    <tr style=\"text-align: right;\">\n",
       "      <th></th>\n",
       "      <th>Unnamed: 0</th>\n",
       "      <th>ID</th>\n",
       "      <th>ModifiedTMC</th>\n",
       "      <th>TOD</th>\n",
       "      <th>YEAR</th>\n",
       "      <th>CHAMP_LINK_COUNT</th>\n",
       "      <th>PHF</th>\n",
       "      <th>ALPHA</th>\n",
       "      <th>BETA</th>\n",
       "      <th>FT2</th>\n",
       "      <th>...</th>\n",
       "      <th>FFS</th>\n",
       "      <th>INRIX_SPEED</th>\n",
       "      <th>SPEED_20TH</th>\n",
       "      <th>FF_TIME</th>\n",
       "      <th>INRIX_TIME</th>\n",
       "      <th>INRIX_VOL</th>\n",
       "      <th>CHAMP_PCE</th>\n",
       "      <th>CHAMP_VOL</th>\n",
       "      <th>TNC_VOL</th>\n",
       "      <th>TNC_PUDO</th>\n",
       "    </tr>\n",
       "  </thead>\n",
       "  <tbody>\n",
       "    <tr>\n",
       "      <th>0</th>\n",
       "      <td>0</td>\n",
       "      <td>105&amp;10491_AM</td>\n",
       "      <td>105&amp;10491</td>\n",
       "      <td>AM</td>\n",
       "      <td>2016</td>\n",
       "      <td>2</td>\n",
       "      <td>0.348</td>\n",
       "      <td>0.60</td>\n",
       "      <td>3.5</td>\n",
       "      <td>2</td>\n",
       "      <td>...</td>\n",
       "      <td>28.467037</td>\n",
       "      <td>18.088510</td>\n",
       "      <td>10.483549</td>\n",
       "      <td>0.358309</td>\n",
       "      <td>0.563894</td>\n",
       "      <td>7660.134930</td>\n",
       "      <td>6320.848807</td>\n",
       "      <td>5793.641565</td>\n",
       "      <td>382.930621</td>\n",
       "      <td>9.324706</td>\n",
       "    </tr>\n",
       "    <tr>\n",
       "      <th>1</th>\n",
       "      <td>1</td>\n",
       "      <td>105&amp;14211_AM</td>\n",
       "      <td>105&amp;14211</td>\n",
       "      <td>AM</td>\n",
       "      <td>2016</td>\n",
       "      <td>6</td>\n",
       "      <td>0.348</td>\n",
       "      <td>0.60</td>\n",
       "      <td>8.5</td>\n",
       "      <td>4</td>\n",
       "      <td>...</td>\n",
       "      <td>25.215407</td>\n",
       "      <td>16.902508</td>\n",
       "      <td>14.949591</td>\n",
       "      <td>1.427699</td>\n",
       "      <td>2.129861</td>\n",
       "      <td>1342.742061</td>\n",
       "      <td>492.161158</td>\n",
       "      <td>459.129478</td>\n",
       "      <td>35.819280</td>\n",
       "      <td>0.315167</td>\n",
       "    </tr>\n",
       "    <tr>\n",
       "      <th>2</th>\n",
       "      <td>11</td>\n",
       "      <td>105+04869_AM</td>\n",
       "      <td>105+04869</td>\n",
       "      <td>AM</td>\n",
       "      <td>2016</td>\n",
       "      <td>8</td>\n",
       "      <td>0.348</td>\n",
       "      <td>0.83</td>\n",
       "      <td>8.5</td>\n",
       "      <td>1</td>\n",
       "      <td>...</td>\n",
       "      <td>67.730000</td>\n",
       "      <td>52.759624</td>\n",
       "      <td>49.480000</td>\n",
       "      <td>0.951248</td>\n",
       "      <td>1.221161</td>\n",
       "      <td>9359.350223</td>\n",
       "      <td>7463.839934</td>\n",
       "      <td>6847.118463</td>\n",
       "      <td>317.581145</td>\n",
       "      <td>0.244180</td>\n",
       "    </tr>\n",
       "    <tr>\n",
       "      <th>3</th>\n",
       "      <td>13</td>\n",
       "      <td>105+04873_AM</td>\n",
       "      <td>105+04873</td>\n",
       "      <td>AM</td>\n",
       "      <td>2016</td>\n",
       "      <td>1</td>\n",
       "      <td>0.348</td>\n",
       "      <td>0.60</td>\n",
       "      <td>8.5</td>\n",
       "      <td>4</td>\n",
       "      <td>...</td>\n",
       "      <td>45.930000</td>\n",
       "      <td>20.649362</td>\n",
       "      <td>7.180000</td>\n",
       "      <td>0.222077</td>\n",
       "      <td>0.493962</td>\n",
       "      <td>937.520667</td>\n",
       "      <td>229.839170</td>\n",
       "      <td>180.880750</td>\n",
       "      <td>87.934850</td>\n",
       "      <td>3.110000</td>\n",
       "    </tr>\n",
       "    <tr>\n",
       "      <th>4</th>\n",
       "      <td>15</td>\n",
       "      <td>105+05618_AM</td>\n",
       "      <td>105+05618</td>\n",
       "      <td>AM</td>\n",
       "      <td>2016</td>\n",
       "      <td>4</td>\n",
       "      <td>0.348</td>\n",
       "      <td>0.83</td>\n",
       "      <td>5.5</td>\n",
       "      <td>1</td>\n",
       "      <td>...</td>\n",
       "      <td>62.480000</td>\n",
       "      <td>37.604309</td>\n",
       "      <td>14.976000</td>\n",
       "      <td>0.525192</td>\n",
       "      <td>0.872613</td>\n",
       "      <td>11800.524230</td>\n",
       "      <td>7594.111413</td>\n",
       "      <td>7258.430157</td>\n",
       "      <td>51.922407</td>\n",
       "      <td>1.394222</td>\n",
       "    </tr>\n",
       "  </tbody>\n",
       "</table>\n",
       "<p>5 rows × 23 columns</p>\n",
       "</div>"
      ],
      "text/plain": [
       "   Unnamed: 0            ID ModifiedTMC TOD  YEAR  CHAMP_LINK_COUNT    PHF  \\\n",
       "0           0  105&10491_AM   105&10491  AM  2016                 2  0.348   \n",
       "1           1  105&14211_AM   105&14211  AM  2016                 6  0.348   \n",
       "2          11  105+04869_AM   105+04869  AM  2016                 8  0.348   \n",
       "3          13  105+04873_AM   105+04873  AM  2016                 1  0.348   \n",
       "4          15  105+05618_AM   105+05618  AM  2016                 4  0.348   \n",
       "\n",
       "   ALPHA  BETA  FT2  ...        FFS  INRIX_SPEED  SPEED_20TH   FF_TIME  \\\n",
       "0   0.60   3.5    2  ...  28.467037    18.088510   10.483549  0.358309   \n",
       "1   0.60   8.5    4  ...  25.215407    16.902508   14.949591  1.427699   \n",
       "2   0.83   8.5    1  ...  67.730000    52.759624   49.480000  0.951248   \n",
       "3   0.60   8.5    4  ...  45.930000    20.649362    7.180000  0.222077   \n",
       "4   0.83   5.5    1  ...  62.480000    37.604309   14.976000  0.525192   \n",
       "\n",
       "   INRIX_TIME     INRIX_VOL    CHAMP_PCE    CHAMP_VOL     TNC_VOL  TNC_PUDO  \n",
       "0    0.563894   7660.134930  6320.848807  5793.641565  382.930621  9.324706  \n",
       "1    2.129861   1342.742061   492.161158   459.129478   35.819280  0.315167  \n",
       "2    1.221161   9359.350223  7463.839934  6847.118463  317.581145  0.244180  \n",
       "3    0.493962    937.520667   229.839170   180.880750   87.934850  3.110000  \n",
       "4    0.872613  11800.524230  7594.111413  7258.430157   51.922407  1.394222  \n",
       "\n",
       "[5 rows x 23 columns]"
      ]
     },
     "execution_count": 3,
     "metadata": {},
     "output_type": "execute_result"
    }
   ],
   "source": [
    "# Create a reference the CSV file desired\n",
    "uber_lyft = \"SF_TRAFFIC_2016.csv\"\n",
    "'''PEAK HOUR VOLUME DATA Peak hour volume data consists of hourly volume relationships and data location. The hourly volumes are expressed as a percentage of the Annual Average Daily Traffic (AADT). The percentages are shown for both the AM and the PM peak periods. The principle data described here are the K factor, the D factor and their product (KD). The K factor is the percentage of AADT during the peak hour for both directions of travel. The D factor is the percentage of the peak hour travel in the peak direction. KD multiplied with the AADT gives the one way peak period directional flow rate or the design hourly volume (DHV). The design hourly volume is used for either Operational Analysis or Design Analysis. Refer to the 2016 Highway Capacity Manual, 6th Edition A Guide for Multimodal Mobility Analysis for more details.'''\n",
    "\n",
    "# Read the CSV into a Pandas DataFrame\n",
    "uber_lyft_df = pd.read_csv(uber_lyft)\n",
    "\n",
    "# Print the first five rows of data to the screen\n",
    "uber_lyft_df.head()"
   ]
  },
  {
   "cell_type": "code",
   "execution_count": 4,
   "metadata": {},
   "outputs": [
    {
     "data": {
      "text/plain": [
       "Year          28093\n",
       "District      28093\n",
       "Route         28093\n",
       "County        28093\n",
       "Postmile      28093\n",
       "Descriptn     28093\n",
       "Back_pk_h     28093\n",
       "Back_pk_m     28093\n",
       "Back_AADT     28093\n",
       "Ahead_pk_h    28093\n",
       "Ahead_pk_m    28093\n",
       "Ahead_AADT    28093\n",
       "Lat_S_or_W    28093\n",
       "Lon_S_or_W    28093\n",
       "Lat_N_or_E    28093\n",
       "Lon_N_or_E    28093\n",
       "dtype: int64"
      ]
     },
     "execution_count": 4,
     "metadata": {},
     "output_type": "execute_result"
    }
   ],
   "source": [
    "# Check to see if there are any rows with missing data\n",
    "# We have 1412 rows of data from 2015 to 2017 and 24 columns\n",
    "aadt_df.count()"
   ]
  },
  {
   "cell_type": "code",
   "execution_count": 5,
   "metadata": {},
   "outputs": [
    {
     "data": {
      "text/plain": [
       "Unnamed: 0          6694\n",
       "ID                  6694\n",
       "ModifiedTMC         6694\n",
       "TOD                 6694\n",
       "YEAR                6694\n",
       "CHAMP_LINK_COUNT    6694\n",
       "PHF                 6694\n",
       "ALPHA               6694\n",
       "BETA                6694\n",
       "FT2                 6694\n",
       "LANES               6694\n",
       "DISTANCE            6694\n",
       "CAPACITY            6694\n",
       "FFS                 6694\n",
       "INRIX_SPEED         6694\n",
       "SPEED_20TH          6694\n",
       "FF_TIME             6694\n",
       "INRIX_TIME          6694\n",
       "INRIX_VOL           6694\n",
       "CHAMP_PCE           6694\n",
       "CHAMP_VOL           6694\n",
       "TNC_VOL             6694\n",
       "TNC_PUDO            6694\n",
       "dtype: int64"
      ]
     },
     "execution_count": 5,
     "metadata": {},
     "output_type": "execute_result"
    }
   ],
   "source": [
    "uber_lyft_df.count()"
   ]
  },
  {
   "cell_type": "code",
   "execution_count": 6,
   "metadata": {},
   "outputs": [],
   "source": [
    "# Collect a list of traffic locations in CA\n",
    "columns = [\n",
    "    \"DI\",  # Caltrans has twelve transportation districts statewide. This abbreviation identifies the district in which the count station is located. \n",
    "    \"RTE\", # The state highway route number. \n",
    "    \"CO\", # County abbreviation used by Caltrans\n",
    "    \"PRE\", # The postmile may have a prefix like R, T, L, M, etc. When a length of highway is changed due to construction or realigment, new postmile values are assigned. To distinguish the new values from the old, an alpha code is prefixed to the new postmile. '''\n",
    "    \"PM\", # The Post Mile is the mileage measured from the county line, or from the beginning of a route. Each postmile along a route in a county is a unique location on the state highway system. \n",
    "    \"CS\", # Control Station Number, Caltrans identification number for monitoring site. \n",
    "    \"LEG\", # For traffic counting purposes, a highway intersection or interchange is assigned two legs according to increasing postmiles (route direction) and with a postmile reference at the center of the intersection or interchange. \n",
    "    #  The volume of traffic on each leg is denoted by an A, B or O. \n",
    "    #  A = ahead leg, B = back leg, and O – traffic volume being same for both back and ahead legs.    \n",
    "    \"YR\", # The year when the count was made. Traffic counting is on a 3-year cycle.\n",
    "    \"AM_DIR\",   # Indicates direction of travel for peak volume.\n",
    "    \"AM_WAY_PHV\",  # Peak Hour Volume in the peak direction. A one way volume in vehicles per hour (vph) as used here. The PHV is analogous to the DDHV as used for design purposes\n",
    "    \"AM_K_FACTOR_AMT\", # The percentage of the AADT in both directions during the peak hour. Values in this table are derived by dividing the measured 2-way PHV by the AADT.\n",
    "    \"AM_D_FACTOR_AMT\", #  D factor. The percentage of traffic in the peak direction during the peak hour.  Values in this book are derived by dividing the measured PHV by the sum of both directions of travel during the peak hour.\n",
    "    \"AM_KD_FACTOR\",   #  The product of K and D. The percentage of AADT in the peak direction during the peak hour. Values in this table are derived by dividing the measured 1-way PHV by the AADT. \n",
    "    \"AM_HOUR\", \n",
    "    \"AM_DAY\",\n",
    "    \"AM_MONTH\",\n",
    "    \"PM_DIR\", \n",
    "    \"PM_WAY_PHV\",\n",
    "    \"PM_K_FACTOR_AMT\",\n",
    "    \"PM_D_FACTOR_AMT\",\n",
    "    \"PM_KD_FACTOR\",\n",
    "    \"PM_HOUR\",\n",
    "    \"PM_DAY\",\n",
    "    \"PM_MONTH\"\n",
    "]"
   ]
  },
  {
   "cell_type": "code",
   "execution_count": 7,
   "metadata": {},
   "outputs": [
    {
     "ename": "KeyError",
     "evalue": "'CO'",
     "output_type": "error",
     "traceback": [
      "\u001b[1;31m---------------------------------------------------------------------------\u001b[0m",
      "\u001b[1;31mKeyError\u001b[0m                                  Traceback (most recent call last)",
      "\u001b[1;32m<ipython-input-7-cc3474bcda33>\u001b[0m in \u001b[0;36m<module>\u001b[1;34m\u001b[0m\n\u001b[0;32m      1\u001b[0m \u001b[1;31m# Create a group based on the routes and mile post in California\u001b[0m\u001b[1;33m\u001b[0m\u001b[1;33m\u001b[0m\u001b[1;33m\u001b[0m\u001b[0m\n\u001b[1;32m----> 2\u001b[1;33m \u001b[0maadt_group\u001b[0m \u001b[1;33m=\u001b[0m \u001b[0maadt_df\u001b[0m\u001b[1;33m.\u001b[0m\u001b[0mgroupby\u001b[0m\u001b[1;33m(\u001b[0m\u001b[1;33m[\u001b[0m\u001b[1;34m'CO'\u001b[0m\u001b[1;33m,\u001b[0m\u001b[1;34m'RTE'\u001b[0m\u001b[1;33m,\u001b[0m\u001b[1;34m'PM'\u001b[0m\u001b[1;33m]\u001b[0m\u001b[1;33m)\u001b[0m\u001b[1;33m\u001b[0m\u001b[1;33m\u001b[0m\u001b[0m\n\u001b[0m\u001b[0;32m      3\u001b[0m \u001b[1;33m\u001b[0m\u001b[0m\n\u001b[0;32m      4\u001b[0m \u001b[1;31m# look at count per location\u001b[0m\u001b[1;33m\u001b[0m\u001b[1;33m\u001b[0m\u001b[1;33m\u001b[0m\u001b[0m\n\u001b[0;32m      5\u001b[0m \u001b[0mprint\u001b[0m\u001b[1;33m(\u001b[0m\u001b[1;34mf\"aadt_group.count={aadt_group.count()}\"\u001b[0m\u001b[1;33m)\u001b[0m\u001b[1;33m\u001b[0m\u001b[1;33m\u001b[0m\u001b[0m\n",
      "\u001b[1;32m~\\Anaconda3\\lib\\site-packages\\pandas\\core\\generic.py\u001b[0m in \u001b[0;36mgroupby\u001b[1;34m(self, by, axis, level, as_index, sort, group_keys, squeeze, observed, **kwargs)\u001b[0m\n\u001b[0;32m   7630\u001b[0m         return groupby(self, by=by, axis=axis, level=level, as_index=as_index,\n\u001b[0;32m   7631\u001b[0m                        \u001b[0msort\u001b[0m\u001b[1;33m=\u001b[0m\u001b[0msort\u001b[0m\u001b[1;33m,\u001b[0m \u001b[0mgroup_keys\u001b[0m\u001b[1;33m=\u001b[0m\u001b[0mgroup_keys\u001b[0m\u001b[1;33m,\u001b[0m \u001b[0msqueeze\u001b[0m\u001b[1;33m=\u001b[0m\u001b[0msqueeze\u001b[0m\u001b[1;33m,\u001b[0m\u001b[1;33m\u001b[0m\u001b[1;33m\u001b[0m\u001b[0m\n\u001b[1;32m-> 7632\u001b[1;33m                        observed=observed, **kwargs)\n\u001b[0m\u001b[0;32m   7633\u001b[0m \u001b[1;33m\u001b[0m\u001b[0m\n\u001b[0;32m   7634\u001b[0m     def asfreq(self, freq, method=None, how=None, normalize=False,\n",
      "\u001b[1;32m~\\Anaconda3\\lib\\site-packages\\pandas\\core\\groupby\\groupby.py\u001b[0m in \u001b[0;36mgroupby\u001b[1;34m(obj, by, **kwds)\u001b[0m\n\u001b[0;32m   2108\u001b[0m         \u001b[1;32mraise\u001b[0m \u001b[0mTypeError\u001b[0m\u001b[1;33m(\u001b[0m\u001b[1;34m'invalid type: {}'\u001b[0m\u001b[1;33m.\u001b[0m\u001b[0mformat\u001b[0m\u001b[1;33m(\u001b[0m\u001b[0mobj\u001b[0m\u001b[1;33m)\u001b[0m\u001b[1;33m)\u001b[0m\u001b[1;33m\u001b[0m\u001b[1;33m\u001b[0m\u001b[0m\n\u001b[0;32m   2109\u001b[0m \u001b[1;33m\u001b[0m\u001b[0m\n\u001b[1;32m-> 2110\u001b[1;33m     \u001b[1;32mreturn\u001b[0m \u001b[0mklass\u001b[0m\u001b[1;33m(\u001b[0m\u001b[0mobj\u001b[0m\u001b[1;33m,\u001b[0m \u001b[0mby\u001b[0m\u001b[1;33m,\u001b[0m \u001b[1;33m**\u001b[0m\u001b[0mkwds\u001b[0m\u001b[1;33m)\u001b[0m\u001b[1;33m\u001b[0m\u001b[1;33m\u001b[0m\u001b[0m\n\u001b[0m",
      "\u001b[1;32m~\\Anaconda3\\lib\\site-packages\\pandas\\core\\groupby\\groupby.py\u001b[0m in \u001b[0;36m__init__\u001b[1;34m(self, obj, keys, axis, level, grouper, exclusions, selection, as_index, sort, group_keys, squeeze, observed, **kwargs)\u001b[0m\n\u001b[0;32m    358\u001b[0m                                                     \u001b[0msort\u001b[0m\u001b[1;33m=\u001b[0m\u001b[0msort\u001b[0m\u001b[1;33m,\u001b[0m\u001b[1;33m\u001b[0m\u001b[1;33m\u001b[0m\u001b[0m\n\u001b[0;32m    359\u001b[0m                                                     \u001b[0mobserved\u001b[0m\u001b[1;33m=\u001b[0m\u001b[0mobserved\u001b[0m\u001b[1;33m,\u001b[0m\u001b[1;33m\u001b[0m\u001b[1;33m\u001b[0m\u001b[0m\n\u001b[1;32m--> 360\u001b[1;33m                                                     mutated=self.mutated)\n\u001b[0m\u001b[0;32m    361\u001b[0m \u001b[1;33m\u001b[0m\u001b[0m\n\u001b[0;32m    362\u001b[0m         \u001b[0mself\u001b[0m\u001b[1;33m.\u001b[0m\u001b[0mobj\u001b[0m \u001b[1;33m=\u001b[0m \u001b[0mobj\u001b[0m\u001b[1;33m\u001b[0m\u001b[1;33m\u001b[0m\u001b[0m\n",
      "\u001b[1;32m~\\Anaconda3\\lib\\site-packages\\pandas\\core\\groupby\\grouper.py\u001b[0m in \u001b[0;36m_get_grouper\u001b[1;34m(obj, key, axis, level, sort, observed, mutated, validate)\u001b[0m\n\u001b[0;32m    576\u001b[0m                 \u001b[0min_axis\u001b[0m\u001b[1;33m,\u001b[0m \u001b[0mname\u001b[0m\u001b[1;33m,\u001b[0m \u001b[0mlevel\u001b[0m\u001b[1;33m,\u001b[0m \u001b[0mgpr\u001b[0m \u001b[1;33m=\u001b[0m \u001b[1;32mFalse\u001b[0m\u001b[1;33m,\u001b[0m \u001b[1;32mNone\u001b[0m\u001b[1;33m,\u001b[0m \u001b[0mgpr\u001b[0m\u001b[1;33m,\u001b[0m \u001b[1;32mNone\u001b[0m\u001b[1;33m\u001b[0m\u001b[1;33m\u001b[0m\u001b[0m\n\u001b[0;32m    577\u001b[0m             \u001b[1;32melse\u001b[0m\u001b[1;33m:\u001b[0m\u001b[1;33m\u001b[0m\u001b[1;33m\u001b[0m\u001b[0m\n\u001b[1;32m--> 578\u001b[1;33m                 \u001b[1;32mraise\u001b[0m \u001b[0mKeyError\u001b[0m\u001b[1;33m(\u001b[0m\u001b[0mgpr\u001b[0m\u001b[1;33m)\u001b[0m\u001b[1;33m\u001b[0m\u001b[1;33m\u001b[0m\u001b[0m\n\u001b[0m\u001b[0;32m    579\u001b[0m         \u001b[1;32melif\u001b[0m \u001b[0misinstance\u001b[0m\u001b[1;33m(\u001b[0m\u001b[0mgpr\u001b[0m\u001b[1;33m,\u001b[0m \u001b[0mGrouper\u001b[0m\u001b[1;33m)\u001b[0m \u001b[1;32mand\u001b[0m \u001b[0mgpr\u001b[0m\u001b[1;33m.\u001b[0m\u001b[0mkey\u001b[0m \u001b[1;32mis\u001b[0m \u001b[1;32mnot\u001b[0m \u001b[1;32mNone\u001b[0m\u001b[1;33m:\u001b[0m\u001b[1;33m\u001b[0m\u001b[1;33m\u001b[0m\u001b[0m\n\u001b[0;32m    580\u001b[0m             \u001b[1;31m# Add key to exclusions\u001b[0m\u001b[1;33m\u001b[0m\u001b[1;33m\u001b[0m\u001b[1;33m\u001b[0m\u001b[0m\n",
      "\u001b[1;31mKeyError\u001b[0m: 'CO'"
     ]
    }
   ],
   "source": [
    "# Create a group based on the routes and mile post in California\n",
    "aadt_group = aadt_df.groupby(['CO','RTE','PM'])\n",
    "\n",
    "# look at count per location\n",
    "print(f\"aadt_group.count={aadt_group.count()}\")\n",
    "\n",
    "# o-Count how many times each location appears in our group"
   ]
  },
  {
   "cell_type": "code",
   "execution_count": null,
   "metadata": {},
   "outputs": [],
   "source": [
    "aadt3_df = aadt_df.loc[aadt_df[\"CO\"] == \"SF\", columns]\n",
    "aadt3_df"
   ]
  },
  {
   "cell_type": "code",
   "execution_count": null,
   "metadata": {},
   "outputs": [],
   "source": [
    "# Collect a list of traffic locations in CA\n",
    "columns = [\n",
    "\"ID\",\n",
    "\"ModifiedTMC\",\n",
    "\"TOD\",\n",
    "\"YEAR\",\n",
    "\"CHAMP_LINK_COUNT\",\n",
    "\"PHF\",\n",
    "\"ALPHA\",\n",
    "\"BETA\",\n",
    "\"FT2\",\n",
    "\"LANES\",\n",
    "\"DISTANCE\",\n",
    "\"CAPACITY\",\n",
    "\"FFS\",\n",
    "\"INRIX_SPEED\",\n",
    "\"SPEED_20TH\",\n",
    "\"FF_TIME\",\n",
    "\"INRIX_TIME\",\n",
    "\"INRIX_VOL\",\n",
    "\"CHAMP_PCE\",\n",
    "\"CHAMP_VOL\",\n",
    "\"TNC_VOL\"\n",
    "\"TNC_PUDO\"   \n",
    "]\n",
    "\n",
    "# ID - a unique ID, which is a combination of the next two fields\n",
    "# ModifiedTMC\t- ID for the spatial unit of analysis, a directional section of roadway\n",
    "# TOD\t- Time-of-day: AM=6-9 AM, MD=9 AM-3:30 PM, PM=3:30-6:30 PM, EV=6:30 PM-3:00 AM, EA=3-6 AM\n",
    "# YEAR - The year, either 2010 or 2016\n",
    "# CHAMP_LINK_COUNT - The number of SF-CHAMP links that aggregate to this ModifiedTMC\n",
    "# PHF\t- Peak Hour Factor, the share of the total period volume that occurs in the highest 1-hour period\n",
    "# ALPHA - alpha term for use in VDF(volume-delay functions, the probability of Type I error in any hypothesis test–incorrectly rejecting the null hypothesis.)\n",
    "# BETA - beta term for use in VDF (volume-delay functions, the probability of Type II error in any hypothesis test–incorrectly failing to reject the null hypothesis)\n",
    "# AT - Area Type: 0=Regional Core, 1=Central Business Distritc, 2=Urban Business, 3=Urban\n",
    "# FT2 - Facility Type: 1-Freeway, Expressway or Ramp, 2=Major Arterial, 3=Minor Arterial, 4=Local or Collector\n",
    "# LANES - Number of lanes (can be non-integer due to averaging across SF-CHAMP links)\n",
    "# DISTANCE - distance in miles\n",
    "# CAPACITY - capacity in vehicles for the period as a whole\n",
    "# FFS\t- free flow speed\n",
    "# INRIX_SPEED\t- average speed, as measured by INRIX data\n",
    "# SPEED_20TH - 20th percentile speed, as measured by INRIX data\n",
    "# FF_TIME\t- free flow travel time\n",
    "# INRIX_TIME - average travel time, as measured by INRIX data\n",
    "# INRIX_VOL - implied volume\n",
    "# CHAMP_PCE - SF-CHAMP passenger car equivalents (PCEs)\n",
    "# CHAMP_VOL - SF-CHAMP volume (vehicles)\n",
    "# TNC_VOL\t- TNC volume(transportation network companies,uber, lyft)\n",
    "# TNC_PUDO - TNC pick-ups and drop-offs"
   ]
  },
  {
   "cell_type": "code",
   "execution_count": null,
   "metadata": {},
   "outputs": [],
   "source": [
    "# uber_lyft_group = uber_lyft_df.groupby(['TNC_PUDO','TNC_VOL'])\n",
    "# gov_data_time = uber_lyft_df.groupby(['FF_TIME','INRIX_TIME'])\n",
    "# gov_data_volume = uber_lyft_df.groupby(['CHAMP_VOL','INRIX_VOL'])\n",
    "# gov_data_speed = uber_lyft_df.groupby(['FFS','INRIX_SPEED'])\n",
    "\n",
    "# traffic_sf_df = pd.DataFrame({'uber_lyft_group': [uber_lyft_group], 'gov_data_time': [gov_data_time], 'gov_data_speed': [gov_data_speed], 'gov_data_volume': [gov_data_volume] })"
   ]
  },
  {
   "cell_type": "code",
   "execution_count": null,
   "metadata": {},
   "outputs": [],
   "source": [
    "# Create a scatter plot which compares PM PHV  to AM PHV for all highways\n",
    "aadt_df.plot(kind=\"scatter\", x=\"PM_KD_FACTOR\", y=\"AM_KD_FACTOR\", grid=True, figsize=(10,5),\n",
    "              title=\"STATE WIDE PERCENTAGE OF AADT IN THE PEAK DIRECTION DURING PEAK HOURS IN AM OR PM\")\n",
    "plt.show()\n",
    "# 1412 records of AADT with route and mile post; no lat and long\n",
    "# Plot indicates 2% to 20% OF daily traffic occurs in peak morning hour\n",
    "# 3% to 15% of daily traffic occurs in peak evening hour."
   ]
  },
  {
   "cell_type": "code",
   "execution_count": null,
   "metadata": {},
   "outputs": [],
   "source": [
    "uber_lyft_df.plot(kind=\"scatter\", x=\"TNC_PUDO\", y=\"TNC_VOL\", grid=True, figsize=(10,5),\n",
    "              title=\"Uber_Lyft Picups and dropoffs by volume\")\n",
    "plt.show()"
   ]
  },
  {
   "cell_type": "code",
   "execution_count": null,
   "metadata": {},
   "outputs": [],
   "source": [
    "uber_lyft_df.plot(kind=\"scatter\", x=\"INRIX_TIME\", y=\"INRIX_VOL\", grid=True, figsize=(10,5),\n",
    "              title=\"Time over volume\")\n",
    "plt.show()"
   ]
  },
  {
   "cell_type": "code",
   "execution_count": null,
   "metadata": {},
   "outputs": [],
   "source": [
    "uber_lyft_df.plot(kind=\"scatter\", x=\"FFS\", y=\"INRIX_SPEED\", grid=True, figsize=(10,5),\n",
    "              title=\"STATE WIDE PERCENTAGE OF AADT IN THE PEAK DIRECTION DURING PEAK HOURS IN AM OR PM\")\n",
    "plt.show()"
   ]
  },
  {
   "cell_type": "code",
   "execution_count": null,
   "metadata": {},
   "outputs": [],
   "source": [
    "# Set x axis and tick locations\n",
    "x_axis = np.arange(len(aadt3_df))\n",
    "tick_locations = [value for value in x_axis]"
   ]
  },
  {
   "cell_type": "code",
   "execution_count": null,
   "metadata": {},
   "outputs": [],
   "source": [
    "#create summary \n",
    "County_sum = (aadt_df.groupby(\"CO\")[\"AM_WAY_PHV\"].count())\n",
    "AM_max = (aadt_df.groupby(\"CO\")[\"AM_WAY_PHV\"].max())\n",
    "PM_max = (aadt_df.groupby(\"CO\")[\"PM_WAY_PHV\"].max())\n",
    "AM_avg = (aadt_df.groupby(\"CO\")[\"AM_WAY_PHV\"].mean().round(2))\n",
    "PM_avg = (aadt_df.groupby(\"CO\")[\"PM_WAY_PHV\"].mean().round(2))\n",
    "AM_min = (aadt_df.groupby(\"CO\")[\"AM_WAY_PHV\"].min())\n",
    "PM_min = (aadt_df.groupby(\"CO\")[\"PM_WAY_PHV\"].min())\n",
    "\n",
    "ca_df = pd.DataFrame({'AM max PHV': AM_max, 'PM max PHV': PM_max, 'AM avg PHV': AM_avg, 'PM avg PHV': PM_avg, 'AM min PHV': AM_min, 'PM min PHV': PM_min })\n",
    "ca_df\n"
   ]
  },
  {
   "cell_type": "code",
   "execution_count": null,
   "metadata": {},
   "outputs": [],
   "source": [
    "# Plot Data \n",
    "ca_df.plot(kind=\"line\", figsize=(10,5))\n",
    "\n",
    "# Set a title for the chart\n",
    "plt.title(\"CA County Peak Hourly Volumn\")\n",
    "plt.xlabel(\" Counties\")\n",
    "plt.ylabel(\" Volumn of Traffic in Morning\")\n",
    "\n",
    "#Add the legend.\n",
    "legend = plt.legend(loc = \"best\")\n",
    "legend.legendHandles[0]._sizes = [30]\n",
    "legend.legendHandles[1]._sizes = [30]\n",
    "legend.legendHandles[2]._sizes = [30]\n",
    "\n",
    "plt.show()\n",
    "plt.tight_layout()"
   ]
  },
  {
   "cell_type": "code",
   "execution_count": null,
   "metadata": {},
   "outputs": [],
   "source": [
    "# # Plot Data \n",
    "# traffic_sf_df.plot(kind=\"line\", figsize=(10,5))\n",
    "\n",
    "# # Set a title for the chart\n",
    "# plt.title(\"Uber-Lyft Pick-ups and Volume\")\n",
    "# plt.xlabel(\"Volume\")\n",
    "# plt.ylabel(\"Pickups\")\n",
    "\n",
    "# #Add the legend.\n",
    "# legend = plt.legend(loc = \"best\")\n",
    "# legend.legendHandles[0]._sizes = [30]\n",
    "# legend.legendHandles[1]._sizes = [30]\n",
    "# legend.legendHandles[2]._sizes = [30]\n",
    "\n",
    "# plt.show()\n",
    "# plt.tight_layout()\n"
   ]
  },
  {
   "cell_type": "code",
   "execution_count": null,
   "metadata": {},
   "outputs": [],
   "source": [
    "#create summary \n",
    "County_sum = (aadt_df.groupby(\"CO\")[\"AM_WAY_PHV\"].count())\n",
    "AM_max = (aadt_df.groupby(\"CO\")[\"AM_WAY_PHV\"].max())\n",
    "PM_max = (aadt_df.groupby(\"CO\")[\"PM_WAY_PHV\"].max())\n",
    "AM_avg = (aadt_df.groupby(\"CO\")[\"AM_WAY_PHV\"].mean().round(2))\n",
    "PM_avg = (aadt_df.groupby(\"CO\")[\"PM_WAY_PHV\"].mean().round(2))\n",
    "AM_min = (aadt_df.groupby(\"CO\")[\"AM_WAY_PHV\"].min())\n",
    "PM_min = (aadt_df.groupby(\"CO\")[\"PM_WAY_PHV\"].min())\n",
    "\n",
    "ca_df = pd.DataFrame({'AM max PHV': AM_max, 'PM max PHV': PM_max, 'AM avg PHV': AM_avg, 'PM avg PHV': PM_avg, 'AM min PHV': AM_min, 'PM min PHV': PM_min })\n",
    "ca_df"
   ]
  },
  {
   "cell_type": "code",
   "execution_count": null,
   "metadata": {
    "scrolled": true
   },
   "outputs": [],
   "source": [
    "# Create a list indicating where to write x labels and set figure size to adjust for space\n",
    "plt.figure(figsize=(20,3))\n",
    "plt.xlabel(\" Route and Mile Post\")\n",
    "plt.ylabel(\" Volumn of Traffic in Morning\")\n",
    "plt.bar(x_axis, aadt3_df[\"AM_WAY_PHV\"], color='r', alpha=0.5, align=\"center\")\n",
    "plt.xticks(tick_locations, aadt3_df[\"RTE\"], rotation=\"vertical\")\n",
    "\n",
    "# Create a list indicating where to write x labels and set figure size to adjust for space\n",
    "plt.figure(figsize=(20,3))\n",
    "plt.xlabel(\" Route and Mile Post\")\n",
    "plt.ylabel(\" Volumn of Traffic in Morning\")\n",
    "plt.bar(x_axis, aadt3_df[\"PM_WAY_PHV\"], color='g', alpha=0.5, align=\"center\")\n",
    "plt.xticks(tick_locations, aadt3_df[\"RTE\"], rotation=\"vertical\")\n",
    "\n",
    "plt.show()"
   ]
  },
  {
   "cell_type": "code",
   "execution_count": null,
   "metadata": {},
   "outputs": [],
   "source": [
    "PM_PHV =(aadt3_df[\"PM_WAY_PHV\"].max())\n",
    "PM_PHV, \" VEHICLES LEAVE SF ON HWY 280 IN THE EVENING COMMUTE\""
   ]
  },
  {
   "cell_type": "code",
   "execution_count": null,
   "metadata": {},
   "outputs": [],
   "source": [
    "FFS =(uber_lyft_df[\"FFS\"].mean())\n",
    "FFS, \"Average Speed in San Francisco\""
   ]
  },
  {
   "cell_type": "code",
   "execution_count": null,
   "metadata": {},
   "outputs": [],
   "source": [
    "AM_PHV =(aadt_df[\"AM_WAY_PHV\"].max())\n",
    "AM_PHV, \" VEHICLES COME TO SF USING HWY 280 DURING MORNING COMMUTE\""
   ]
  },
  {
   "cell_type": "code",
   "execution_count": null,
   "metadata": {},
   "outputs": [],
   "source": [
    "INRIX_TIME =(uber_lyft_df[\"INRIX_TIME\"].mean())\n",
    "INRIX_TIME, \"Inner City Travel Time (Minutes), getting from any one zone to another\""
   ]
  },
  {
   "cell_type": "code",
   "execution_count": null,
   "metadata": {},
   "outputs": [],
   "source": [
    "PM_PHV =(aadt3_df[\"PM_WAY_PHV\"].max())\n",
    "\"HIGHEST TRAFFIC ON ROUTE 280 IN THE EVENING IS \", PM_PHV"
   ]
  },
  {
   "cell_type": "code",
   "execution_count": null,
   "metadata": {},
   "outputs": [],
   "source": [
    "TNC_VOL =(uber_lyft_df[\"TNC_VOL\"].mean())\n",
    "\"Average volume of traffic at all measured locations for Uber and Lyft\", TNC_VOL"
   ]
  },
  {
   "cell_type": "code",
   "execution_count": null,
   "metadata": {},
   "outputs": [],
   "source": [
    "TNC_PUDO =(uber_lyft_df[\"TNC_PUDO\"].mean())\n",
    "\"Average distance from pick-ups to drop-offs in all locations\", TNC_PUDO"
   ]
  },
  {
   "cell_type": "code",
   "execution_count": null,
   "metadata": {},
   "outputs": [],
   "source": [
    "# Set x axis and tick locations\n",
    "x_axis = np.arange(len(aadt3_df))\n",
    "tick_locations = [value for value in x_axis]"
   ]
  },
  {
   "cell_type": "code",
   "execution_count": null,
   "metadata": {
    "scrolled": true
   },
   "outputs": [],
   "source": [
    "# Create a list indicating where to write x labels and set figure size to adjust for space\n",
    "plt.figure(figsize=(20,10))\n",
    "plt.xlabel(\" Route and Mile Post\")\n",
    "plt.ylabel(\" Volumn of Traffic in Morning (vehicles)\")\n",
    "plt.bar(x_axis, aadt3_df[\"AM_WAY_PHV\"], color='r', alpha=.5, align=\"center\")\n",
    "plt.xticks(tick_locations, aadt3_df[\"RTE\"], rotation=\"vertical\")\n",
    "\n",
    "# Create a list indicating where to write x labels and set figure size to adjust for space\n",
    "plt.figure(figsize=(20,10))\n",
    "plt.xlabel(\" Route and Mile Post\")\n",
    "plt.ylabel(\" Volumn of Traffic in Evening (vehicles)\")\n",
    "plt.bar(x_axis, aadt3_df[\"PM_WAY_PHV\"], color='g', alpha=.5, align=\"center\")\n",
    "plt.xticks(tick_locations, aadt3_df[\"RTE\"], rotation=\"vertical\")\n",
    "\n",
    "plt.show()\n"
   ]
  },
  {
   "cell_type": "code",
   "execution_count": null,
   "metadata": {
    "scrolled": true
   },
   "outputs": [],
   "source": [
    "# The maximum x value for LA data only\n",
    "x_limit = 20000000\n",
    "y_limit = 20000000\n",
    "\n",
    "# Tells matplotlib that we want to make a scatter plot\n",
    "# The size of each point on our plot is determined by percent of AADT at peak hour\n",
    "\n",
    "plt.xlabel(\" % AADT in evening commute\")\n",
    "plt.ylabel(\" % AADT in morning commute\")\n",
    "\n",
    "plt.scatter(aadt3_df[\"PM_KD_FACTOR\"], aadt3_df[\"AM_KD_FACTOR\"],  marker=\"o\", facecolors=\"gold\", edgecolors=\"black\",\n",
    "            s=aadt3_df[\"AM_WAY_PHV\"]/100, alpha=0.5)\n",
    "plt.show"
   ]
  },
  {
   "cell_type": "code",
   "execution_count": null,
   "metadata": {},
   "outputs": [],
   "source": [
    "# The compare traffic volumn LA and SF\n",
    "x_limit = 200000000\n",
    "y_limit = 2000000\n",
    "plt.xlabel(\" volumn of traffic in peak hour of evening commute\")\n",
    "plt.ylabel(\" volumn of traffic in peak hour of morning commute\")\n",
    "\n",
    "# LA\n",
    "# The size of each point on our plot is determined by their x value\n",
    "plt.scatter(aadt3_df[\"PM_WAY_PHV\"], aadt3_df[\"AM_WAY_PHV\"], marker=\"o\", facecolors=\"gold\", edgecolors=\"black\",\n",
    "            s=aadt3_df[\"PM_KD_FACTOR\"]*100, alpha=0.5)\n",
    "# SF\n",
    "# The size of each point on our plot is determined by their x value\n",
    "plt.scatter(aadt3_df[\"PM_WAY_PHV\"], aadt3_df[\"AM_WAY_PHV\"], marker=\"o\", facecolors=\"blue\", edgecolors=\"black\",\n",
    "            s=aadt3_df[\"PM_KD_FACTOR\"]*100, alpha=0.5)\n",
    "\n",
    "# LA has higher volumn of traffic\n",
    "# LA has higher percentage of traffic traveling during commute hours\n",
    "plt.show"
   ]
  },
  {
   "cell_type": "code",
   "execution_count": null,
   "metadata": {},
   "outputs": [],
   "source": [
    "# Save config informationfor open weather API\n",
    "url = \"http://api.openweathermap.org/data/2.5/weather?\"\n",
    "city1 = \"San Francisco\"\n",
    "\n",
    "# Build query URL\n",
    "query_url = url + \"appid=\" + api_key + \"&q=\" + city1"
   ]
  },
  {
   "cell_type": "code",
   "execution_count": null,
   "metadata": {},
   "outputs": [],
   "source": [
    "# Get weather data for SF from OPEN WEATHER API\n",
    "weather_response = requests.get(query_url)\n",
    "weather_json = weather_response.json()\n",
    "\n",
    "# Get the temperature from the response\n",
    "print(f\"The weather API responded with: {weather_json}.\")"
   ]
  },
  {
   "cell_type": "code",
   "execution_count": null,
   "metadata": {},
   "outputs": [],
   "source": [
    "# Print the output of the JSON\n",
    "print(json.dumps(weather_json, indent=4, sort_keys=True))"
   ]
  },
  {
   "cell_type": "code",
   "execution_count": null,
   "metadata": {},
   "outputs": [],
   "source": [
    "# Save config information for LA   from OPEN WEATHER API\n",
    "url = \"http://api.openweathermap.org/data/2.5/weather?\"\n",
    "city2 = \"Los Angeles\"\n",
    "\n",
    "#Build query URL\n",
    "query_url = url + \"appid=\" + api_key + \"&q=\" + city2"
   ]
  },
  {
   "cell_type": "code",
   "execution_count": null,
   "metadata": {},
   "outputs": [],
   "source": [
    "# Get weather data for LA\n",
    "weather_response = requests.get(query_url)\n",
    "weather_json = weather_response.json()\n",
    "\n",
    "# Get the temperature from the response\n",
    "print(f\"The weather API responded with: {weather_json}.\")"
   ]
  },
  {
   "cell_type": "code",
   "execution_count": null,
   "metadata": {},
   "outputs": [],
   "source": [
    "# Print the output of the JSON\n",
    "print(json.dumps(weather_json, indent=4, sort_keys=True))"
   ]
  },
  {
   "cell_type": "code",
   "execution_count": null,
   "metadata": {},
   "outputs": [],
   "source": [
    "######################################################################################################################"
   ]
  },
  {
   "cell_type": "code",
   "execution_count": null,
   "metadata": {},
   "outputs": [],
   "source": [
    "######################################################################################################################"
   ]
  },
  {
   "cell_type": "code",
   "execution_count": null,
   "metadata": {},
   "outputs": [],
   "source": [
    "######################################################################################################################"
   ]
  },
  {
   "cell_type": "code",
   "execution_count": null,
   "metadata": {},
   "outputs": [],
   "source": [
    "# Street_Pavement_Condition Legend\n",
    "# Field Name Data / Type / Definition Notes (optional)\n",
    "#   \"CNN\"           Number    CNN of street segment or intersection location\n",
    "# \"STREET\"          Text / VarChar      Street name\n",
    "# \"PCI_Score\"       Number    Paving Condition Index Score\n",
    "# \"From_Street\"     Text      Cross street 1\n",
    "# \"To_Street\"       Text      Cross street 2\n",
    "# \"PCI_Change_Date\" Date      Date condition score last updated\n",
    "# Street_Accepted_For_Maintenance     Yes/No      Street accepted for maintenance by Public Works\n",
    "# \"Functional_Class\" Text\n",
    "# The functional class of the street segment:\n",
    "# Arterial, Collector or Residential."
   ]
  },
  {
   "cell_type": "code",
   "execution_count": null,
   "metadata": {},
   "outputs": [],
   "source": []
  },
  {
   "cell_type": "code",
   "execution_count": null,
   "metadata": {},
   "outputs": [],
   "source": [
    "# Column Name      Description                 Type\n",
    "#   \"CNN\"   unique street centerline ID       Number\n",
    "# \"STREET\"  street name                       Plain Text / VarChar\n",
    "# \"ST_TYPE\" street type                       Plain Text\n",
    "# \"NHOOD\"   neighborhood the street segment is in / Plain Text  \n",
    "# \"CNNTEXT\" CNN as a text field              Plain Text              \n",
    "# \"shape\"                                    Line-String"
   ]
  },
  {
   "cell_type": "code",
   "execution_count": null,
   "metadata": {},
   "outputs": [],
   "source": [
    "# Extract CSVs into DataFrames"
   ]
  },
  {
   "cell_type": "code",
   "execution_count": null,
   "metadata": {},
   "outputs": [],
   "source": [
    "# Extract Street_Pavement_Condition.csv into DataFrames (City Infrastructure)\n",
    "SPC_file = \"Street_Conditions_2017.csv\"\n",
    "Street_Condition_df = pd.read_csv(SPC_file)\n",
    "Street_Condition_df.head(10)"
   ]
  },
  {
   "cell_type": "code",
   "execution_count": null,
   "metadata": {},
   "outputs": [],
   "source": [
    "# Extract Rush_Hour_Routes.csv into Dataframes\n",
    "RH_file = \"Rush_Hour_Routes.csv\"\n",
    "Rush_Hour_Routes_df = pd.read_csv(RH_file)\n",
    "Rush_Hour_Routes_df.head(10)"
   ]
  },
  {
   "cell_type": "code",
   "execution_count": null,
   "metadata": {},
   "outputs": [],
   "source": [
    "# Transform Street_Condition_df DataFrame"
   ]
  },
  {
   "cell_type": "code",
   "execution_count": null,
   "metadata": {},
   "outputs": [],
   "source": [
    "# Create a filtered dataframe from specific columns\n",
    "SPC_cols = [\"STREET\",\"CNN\",\"Street_Accepted_For_Maintenance\"]\n",
    "SPC_transformed = Street_Condition_df[SPC_cols].copy()\n",
    "\n",
    "# Rename the column headers\n",
    "SPC_transformed = SPC_transformed.rename(columns={\"STREET\":\"Street\",\n",
    "                                                  \"CNN\":\"Cnn\",\n",
    "                                                  \"Street_Accepted_For_Maintenance\":\"Street_Maintenance\"})\n",
    "\n",
    "# Clean the data by dropping duplicates and setting the index\n",
    "SPC_transformed.drop_duplicates(\"Cnn\", inplace=True)\n",
    "SPC_transformed.set_index(\"Cnn\", inplace=True)\n",
    "\n",
    "SPC_transformed.head()"
   ]
  },
  {
   "cell_type": "code",
   "execution_count": null,
   "metadata": {},
   "outputs": [],
   "source": [
    "# Transform Rush_Hour_Routes_df Dataframe"
   ]
  },
  {
   "cell_type": "code",
   "execution_count": null,
   "metadata": {},
   "outputs": [],
   "source": [
    "# Create a filtered dataframe from specific columns\n",
    "RH_Routes_cols = [\"Street_name\",\"CNN\", \"NHOOD\"]\n",
    "RH_Routes_transformed = Rush_Hour_Routes_df[RH_Routes_cols].copy()\n",
    "\n",
    "# Rename the column headers\n",
    "RH_Routes_transformed = RH_Routes_transformed.rename(columns={\"Street_name\":\"Street\",\n",
    "                                               \"CNN\":\"Cnn\",\n",
    "                                               \"NHOOD\":\"Neighborhood\"}) \n",
    "# Set Index\n",
    "RH_Routes_transformed.set_index(\"Cnn\", inplace=True)\n",
    "RH_Routes_transformed.head()"
   ]
  },
  {
   "cell_type": "code",
   "execution_count": null,
   "metadata": {},
   "outputs": [],
   "source": []
  },
  {
   "cell_type": "code",
   "execution_count": null,
   "metadata": {},
   "outputs": [],
   "source": [
    "# Create database , table schema , queries via PostgresSQL / Create Database connection "
   ]
  },
  {
   "cell_type": "code",
   "execution_count": null,
   "metadata": {},
   "outputs": [],
   "source": [
    "connection_string = \"postgres:password@localhost:5432/Traffic_db\"\n",
    "engine = create_engine(f'postgresql://{connection_string}')"
   ]
  },
  {
   "cell_type": "code",
   "execution_count": null,
   "metadata": {},
   "outputs": [],
   "source": [
    "# Confirm tables (Street_Condition) & (Rush_Hour)\n",
    "engine.table_names()"
   ]
  },
  {
   "cell_type": "code",
   "execution_count": null,
   "metadata": {},
   "outputs": [],
   "source": [
    "# Load DataFrames into PostgresSQL database"
   ]
  },
  {
   "cell_type": "code",
   "execution_count": null,
   "metadata": {},
   "outputs": [],
   "source": [
    "SPC_transformed.to_sql(name='Street_Condition', con=engine, if_exists='append', index=True)"
   ]
  },
  {
   "cell_type": "code",
   "execution_count": null,
   "metadata": {},
   "outputs": [],
   "source": [
    "RH_Routes_transformed.to_sql(name='Rush_Hour_Routes', con=engine, if_exists='append', index=True)"
   ]
  },
  {
   "cell_type": "code",
   "execution_count": null,
   "metadata": {},
   "outputs": [],
   "source": []
  }
 ],
 "metadata": {
  "kernelspec": {
   "display_name": "Python 3",
   "language": "python",
   "name": "python3"
  },
  "language_info": {
   "codemirror_mode": {
    "name": "ipython",
    "version": 3
   },
   "file_extension": ".py",
   "mimetype": "text/x-python",
   "name": "python",
   "nbconvert_exporter": "python",
   "pygments_lexer": "ipython3",
   "version": "3.7.3"
  }
 },
 "nbformat": 4,
 "nbformat_minor": 2
}
